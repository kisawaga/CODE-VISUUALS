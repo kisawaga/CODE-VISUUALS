{
 "cells": [
  {
   "cell_type": "markdown",
   "id": "e2cb6fab",
   "metadata": {},
   "source": [
    "# Descriptive Analysis"
   ]
  },
  {
   "cell_type": "markdown",
   "id": "f60ccd7b",
   "metadata": {},
   "source": [
    "Loading the Dataset"
   ]
  },
  {
   "cell_type": "code",
   "execution_count": 66,
   "id": "cb6de05e",
   "metadata": {},
   "outputs": [],
   "source": [
    "import pandas as pd\n",
    "import numpy as np\n",
    "import seaborn as sns\n",
    "import matplotlib.pyplot as plt"
   ]
  },
  {
   "cell_type": "code",
   "execution_count": 67,
   "id": "0afb71cd",
   "metadata": {},
   "outputs": [],
   "source": [
    "df = pd.read_csv('insurance.csv')"
   ]
  },
  {
   "cell_type": "markdown",
   "id": "47665e34",
   "metadata": {},
   "source": [
    " Preview the data"
   ]
  },
  {
   "cell_type": "code",
   "execution_count": 68,
   "id": "fc511ae8",
   "metadata": {},
   "outputs": [
    {
     "name": "stdout",
     "output_type": "stream",
     "text": [
      "   age     sex     bmi  children smoker     region      charges\n",
      "0   19  female  27.900         0    yes  southwest  16884.92400\n",
      "1   18    male  33.770         1     no  southeast   1725.55230\n",
      "2   28    male  33.000         3     no  southeast   4449.46200\n",
      "3   33    male  22.705         0     no  northwest  21984.47061\n",
      "4   32    male  28.880         0     no  northwest   3866.85520\n"
     ]
    }
   ],
   "source": [
    "print(df.head())"
   ]
  },
  {
   "cell_type": "markdown",
   "id": "72916922",
   "metadata": {},
   "source": [
    " Get info about data types and missing values"
   ]
  },
  {
   "cell_type": "code",
   "execution_count": 69,
   "id": "7929177c",
   "metadata": {
    "scrolled": true
   },
   "outputs": [
    {
     "name": "stdout",
     "output_type": "stream",
     "text": [
      "<class 'pandas.core.frame.DataFrame'>\n",
      "RangeIndex: 1338 entries, 0 to 1337\n",
      "Data columns (total 7 columns):\n",
      " #   Column    Non-Null Count  Dtype  \n",
      "---  ------    --------------  -----  \n",
      " 0   age       1338 non-null   int64  \n",
      " 1   sex       1338 non-null   object \n",
      " 2   bmi       1338 non-null   float64\n",
      " 3   children  1338 non-null   int64  \n",
      " 4   smoker    1338 non-null   object \n",
      " 5   region    1338 non-null   object \n",
      " 6   charges   1338 non-null   float64\n",
      "dtypes: float64(2), int64(2), object(3)\n",
      "memory usage: 73.3+ KB\n",
      "None\n"
     ]
    }
   ],
   "source": [
    "print(df.info())"
   ]
  },
  {
   "cell_type": "code",
   "execution_count": 70,
   "id": "75d057a9",
   "metadata": {
    "scrolled": true
   },
   "outputs": [
    {
     "data": {
      "text/html": [
       "<div>\n",
       "<style scoped>\n",
       "    .dataframe tbody tr th:only-of-type {\n",
       "        vertical-align: middle;\n",
       "    }\n",
       "\n",
       "    .dataframe tbody tr th {\n",
       "        vertical-align: top;\n",
       "    }\n",
       "\n",
       "    .dataframe thead th {\n",
       "        text-align: right;\n",
       "    }\n",
       "</style>\n",
       "<table border=\"1\" class=\"dataframe\">\n",
       "  <thead>\n",
       "    <tr style=\"text-align: right;\">\n",
       "      <th></th>\n",
       "      <th>age</th>\n",
       "      <th>bmi</th>\n",
       "      <th>children</th>\n",
       "      <th>charges</th>\n",
       "    </tr>\n",
       "  </thead>\n",
       "  <tbody>\n",
       "    <tr>\n",
       "      <th>count</th>\n",
       "      <td>1338.000000</td>\n",
       "      <td>1338.000000</td>\n",
       "      <td>1338.000000</td>\n",
       "      <td>1338.000000</td>\n",
       "    </tr>\n",
       "    <tr>\n",
       "      <th>mean</th>\n",
       "      <td>39.207025</td>\n",
       "      <td>30.663397</td>\n",
       "      <td>1.094918</td>\n",
       "      <td>13270.422265</td>\n",
       "    </tr>\n",
       "    <tr>\n",
       "      <th>std</th>\n",
       "      <td>14.049960</td>\n",
       "      <td>6.098187</td>\n",
       "      <td>1.205493</td>\n",
       "      <td>12110.011237</td>\n",
       "    </tr>\n",
       "    <tr>\n",
       "      <th>min</th>\n",
       "      <td>18.000000</td>\n",
       "      <td>15.960000</td>\n",
       "      <td>0.000000</td>\n",
       "      <td>1121.873900</td>\n",
       "    </tr>\n",
       "    <tr>\n",
       "      <th>25%</th>\n",
       "      <td>27.000000</td>\n",
       "      <td>26.296250</td>\n",
       "      <td>0.000000</td>\n",
       "      <td>4740.287150</td>\n",
       "    </tr>\n",
       "    <tr>\n",
       "      <th>50%</th>\n",
       "      <td>39.000000</td>\n",
       "      <td>30.400000</td>\n",
       "      <td>1.000000</td>\n",
       "      <td>9382.033000</td>\n",
       "    </tr>\n",
       "    <tr>\n",
       "      <th>75%</th>\n",
       "      <td>51.000000</td>\n",
       "      <td>34.693750</td>\n",
       "      <td>2.000000</td>\n",
       "      <td>16639.912515</td>\n",
       "    </tr>\n",
       "    <tr>\n",
       "      <th>max</th>\n",
       "      <td>64.000000</td>\n",
       "      <td>53.130000</td>\n",
       "      <td>5.000000</td>\n",
       "      <td>63770.428010</td>\n",
       "    </tr>\n",
       "  </tbody>\n",
       "</table>\n",
       "</div>"
      ],
      "text/plain": [
       "               age          bmi     children       charges\n",
       "count  1338.000000  1338.000000  1338.000000   1338.000000\n",
       "mean     39.207025    30.663397     1.094918  13270.422265\n",
       "std      14.049960     6.098187     1.205493  12110.011237\n",
       "min      18.000000    15.960000     0.000000   1121.873900\n",
       "25%      27.000000    26.296250     0.000000   4740.287150\n",
       "50%      39.000000    30.400000     1.000000   9382.033000\n",
       "75%      51.000000    34.693750     2.000000  16639.912515\n",
       "max      64.000000    53.130000     5.000000  63770.428010"
      ]
     },
     "execution_count": 70,
     "metadata": {},
     "output_type": "execute_result"
    }
   ],
   "source": [
    "# Summary statistics for numerical columns\n",
    "df.describe()"
   ]
  },
  {
   "cell_type": "markdown",
   "id": "04aaecfd",
   "metadata": {},
   "source": [
    " Summary statistics"
   ]
  },
  {
   "cell_type": "code",
   "execution_count": 71,
   "id": "af2e4135",
   "metadata": {
    "scrolled": false
   },
   "outputs": [
    {
     "data": {
      "text/html": [
       "<div>\n",
       "<style scoped>\n",
       "    .dataframe tbody tr th:only-of-type {\n",
       "        vertical-align: middle;\n",
       "    }\n",
       "\n",
       "    .dataframe tbody tr th {\n",
       "        vertical-align: top;\n",
       "    }\n",
       "\n",
       "    .dataframe thead th {\n",
       "        text-align: right;\n",
       "    }\n",
       "</style>\n",
       "<table border=\"1\" class=\"dataframe\">\n",
       "  <thead>\n",
       "    <tr style=\"text-align: right;\">\n",
       "      <th></th>\n",
       "      <th>age</th>\n",
       "      <th>sex</th>\n",
       "      <th>bmi</th>\n",
       "      <th>children</th>\n",
       "      <th>smoker</th>\n",
       "      <th>region</th>\n",
       "      <th>charges</th>\n",
       "    </tr>\n",
       "  </thead>\n",
       "  <tbody>\n",
       "    <tr>\n",
       "      <th>count</th>\n",
       "      <td>1338.000000</td>\n",
       "      <td>1338</td>\n",
       "      <td>1338.000000</td>\n",
       "      <td>1338.000000</td>\n",
       "      <td>1338</td>\n",
       "      <td>1338</td>\n",
       "      <td>1338.000000</td>\n",
       "    </tr>\n",
       "    <tr>\n",
       "      <th>unique</th>\n",
       "      <td>NaN</td>\n",
       "      <td>2</td>\n",
       "      <td>NaN</td>\n",
       "      <td>NaN</td>\n",
       "      <td>2</td>\n",
       "      <td>4</td>\n",
       "      <td>NaN</td>\n",
       "    </tr>\n",
       "    <tr>\n",
       "      <th>top</th>\n",
       "      <td>NaN</td>\n",
       "      <td>male</td>\n",
       "      <td>NaN</td>\n",
       "      <td>NaN</td>\n",
       "      <td>no</td>\n",
       "      <td>southeast</td>\n",
       "      <td>NaN</td>\n",
       "    </tr>\n",
       "    <tr>\n",
       "      <th>freq</th>\n",
       "      <td>NaN</td>\n",
       "      <td>676</td>\n",
       "      <td>NaN</td>\n",
       "      <td>NaN</td>\n",
       "      <td>1064</td>\n",
       "      <td>364</td>\n",
       "      <td>NaN</td>\n",
       "    </tr>\n",
       "    <tr>\n",
       "      <th>mean</th>\n",
       "      <td>39.207025</td>\n",
       "      <td>NaN</td>\n",
       "      <td>30.663397</td>\n",
       "      <td>1.094918</td>\n",
       "      <td>NaN</td>\n",
       "      <td>NaN</td>\n",
       "      <td>13270.422265</td>\n",
       "    </tr>\n",
       "    <tr>\n",
       "      <th>std</th>\n",
       "      <td>14.049960</td>\n",
       "      <td>NaN</td>\n",
       "      <td>6.098187</td>\n",
       "      <td>1.205493</td>\n",
       "      <td>NaN</td>\n",
       "      <td>NaN</td>\n",
       "      <td>12110.011237</td>\n",
       "    </tr>\n",
       "    <tr>\n",
       "      <th>min</th>\n",
       "      <td>18.000000</td>\n",
       "      <td>NaN</td>\n",
       "      <td>15.960000</td>\n",
       "      <td>0.000000</td>\n",
       "      <td>NaN</td>\n",
       "      <td>NaN</td>\n",
       "      <td>1121.873900</td>\n",
       "    </tr>\n",
       "    <tr>\n",
       "      <th>25%</th>\n",
       "      <td>27.000000</td>\n",
       "      <td>NaN</td>\n",
       "      <td>26.296250</td>\n",
       "      <td>0.000000</td>\n",
       "      <td>NaN</td>\n",
       "      <td>NaN</td>\n",
       "      <td>4740.287150</td>\n",
       "    </tr>\n",
       "    <tr>\n",
       "      <th>50%</th>\n",
       "      <td>39.000000</td>\n",
       "      <td>NaN</td>\n",
       "      <td>30.400000</td>\n",
       "      <td>1.000000</td>\n",
       "      <td>NaN</td>\n",
       "      <td>NaN</td>\n",
       "      <td>9382.033000</td>\n",
       "    </tr>\n",
       "    <tr>\n",
       "      <th>75%</th>\n",
       "      <td>51.000000</td>\n",
       "      <td>NaN</td>\n",
       "      <td>34.693750</td>\n",
       "      <td>2.000000</td>\n",
       "      <td>NaN</td>\n",
       "      <td>NaN</td>\n",
       "      <td>16639.912515</td>\n",
       "    </tr>\n",
       "    <tr>\n",
       "      <th>max</th>\n",
       "      <td>64.000000</td>\n",
       "      <td>NaN</td>\n",
       "      <td>53.130000</td>\n",
       "      <td>5.000000</td>\n",
       "      <td>NaN</td>\n",
       "      <td>NaN</td>\n",
       "      <td>63770.428010</td>\n",
       "    </tr>\n",
       "  </tbody>\n",
       "</table>\n",
       "</div>"
      ],
      "text/plain": [
       "                age   sex          bmi     children smoker     region  \\\n",
       "count   1338.000000  1338  1338.000000  1338.000000   1338       1338   \n",
       "unique          NaN     2          NaN          NaN      2          4   \n",
       "top             NaN  male          NaN          NaN     no  southeast   \n",
       "freq            NaN   676          NaN          NaN   1064        364   \n",
       "mean      39.207025   NaN    30.663397     1.094918    NaN        NaN   \n",
       "std       14.049960   NaN     6.098187     1.205493    NaN        NaN   \n",
       "min       18.000000   NaN    15.960000     0.000000    NaN        NaN   \n",
       "25%       27.000000   NaN    26.296250     0.000000    NaN        NaN   \n",
       "50%       39.000000   NaN    30.400000     1.000000    NaN        NaN   \n",
       "75%       51.000000   NaN    34.693750     2.000000    NaN        NaN   \n",
       "max       64.000000   NaN    53.130000     5.000000    NaN        NaN   \n",
       "\n",
       "             charges  \n",
       "count    1338.000000  \n",
       "unique           NaN  \n",
       "top              NaN  \n",
       "freq             NaN  \n",
       "mean    13270.422265  \n",
       "std     12110.011237  \n",
       "min      1121.873900  \n",
       "25%      4740.287150  \n",
       "50%      9382.033000  \n",
       "75%     16639.912515  \n",
       "max     63770.428010  "
      ]
     },
     "execution_count": 71,
     "metadata": {},
     "output_type": "execute_result"
    }
   ],
   "source": [
    "# Include all columns, including categorical ones\n",
    "df.describe(include='all')"
   ]
  },
  {
   "cell_type": "markdown",
   "id": "e68a7344",
   "metadata": {},
   "source": [
    "Checking for Unique Values in Categorical Columns"
   ]
  },
  {
   "cell_type": "code",
   "execution_count": 72,
   "id": "e3f8a5d0",
   "metadata": {},
   "outputs": [
    {
     "data": {
      "text/plain": [
       "male      676\n",
       "female    662\n",
       "Name: sex, dtype: int64"
      ]
     },
     "execution_count": 72,
     "metadata": {},
     "output_type": "execute_result"
    }
   ],
   "source": [
    "df['sex'].value_counts()"
   ]
  },
  {
   "cell_type": "code",
   "execution_count": 73,
   "id": "ce590f31",
   "metadata": {},
   "outputs": [
    {
     "data": {
      "text/plain": [
       "no     1064\n",
       "yes     274\n",
       "Name: smoker, dtype: int64"
      ]
     },
     "execution_count": 73,
     "metadata": {},
     "output_type": "execute_result"
    }
   ],
   "source": [
    "df['smoker'].value_counts()"
   ]
  },
  {
   "cell_type": "code",
   "execution_count": 74,
   "id": "f9bb6888",
   "metadata": {
    "scrolled": false
   },
   "outputs": [
    {
     "data": {
      "text/plain": [
       "southeast    364\n",
       "southwest    325\n",
       "northwest    325\n",
       "northeast    324\n",
       "Name: region, dtype: int64"
      ]
     },
     "execution_count": 74,
     "metadata": {},
     "output_type": "execute_result"
    }
   ],
   "source": [
    "df['region'].value_counts()"
   ]
  },
  {
   "cell_type": "code",
   "execution_count": 75,
   "id": "dfb1e2ba",
   "metadata": {},
   "outputs": [],
   "source": [
    "#import seaborn as sns\n",
    "#import matplotlib.pyplot as plt\n",
    "\n",
    "# Example for a single numerical column\n",
    "#sns.boxplot(data=df, y='charges')  # Replace 'charges' with your column name\n",
    "#plt.title(\"Box Plot for Charges\")\n",
    "#plt.show()\n"
   ]
  },
  {
   "cell_type": "markdown",
   "id": "5ba8c258",
   "metadata": {},
   "source": [
    "# Outlier Detection and Elimination"
   ]
  },
  {
   "cell_type": "markdown",
   "id": "ba791a7a",
   "metadata": {},
   "source": [
    "Focusing on numerical columns like age, bmi, and charges.\n",
    "\n",
    "using IQR method technique"
   ]
  },
  {
   "cell_type": "code",
   "execution_count": 76,
   "id": "02fc725e",
   "metadata": {},
   "outputs": [],
   "source": [
    "#IQR method example for detecting outliers in 'charges'\n",
    "Q1 = df['charges'].quantile(0.25)\n",
    "Q3 = df['charges'].quantile(0.75)\n",
    "IQR = Q3 - Q1"
   ]
  },
  {
   "cell_type": "code",
   "execution_count": 77,
   "id": "7bf092b6",
   "metadata": {},
   "outputs": [
    {
     "data": {
      "text/plain": [
       "11899.625365"
      ]
     },
     "execution_count": 77,
     "metadata": {},
     "output_type": "execute_result"
    }
   ],
   "source": [
    "IQR"
   ]
  },
  {
   "cell_type": "code",
   "execution_count": 78,
   "id": "b275f761",
   "metadata": {},
   "outputs": [],
   "source": [
    "# Defining bounds\n",
    "lower_bound = Q1 - 1.5 * IQR\n",
    "upper_bound = Q3 + 1.5 * IQR"
   ]
  },
  {
   "cell_type": "code",
   "execution_count": 79,
   "id": "7ae2cfc1",
   "metadata": {},
   "outputs": [],
   "source": [
    "outliers = df[(df['charges'] < df['charges'].quantile(0.25) - 1.5 * (df['charges'].quantile(0.75) - df['charges'].quantile(0.25))) | \n",
    "              (df['charges'] > df['charges'].quantile(0.75) + 1.5 * (df['charges'].quantile(0.75) - df['charges'].quantile(0.25)))]\n"
   ]
  },
  {
   "cell_type": "code",
   "execution_count": 80,
   "id": "fcff305f",
   "metadata": {},
   "outputs": [
    {
     "data": {
      "text/html": [
       "<div>\n",
       "<style scoped>\n",
       "    .dataframe tbody tr th:only-of-type {\n",
       "        vertical-align: middle;\n",
       "    }\n",
       "\n",
       "    .dataframe tbody tr th {\n",
       "        vertical-align: top;\n",
       "    }\n",
       "\n",
       "    .dataframe thead th {\n",
       "        text-align: right;\n",
       "    }\n",
       "</style>\n",
       "<table border=\"1\" class=\"dataframe\">\n",
       "  <thead>\n",
       "    <tr style=\"text-align: right;\">\n",
       "      <th></th>\n",
       "      <th>age</th>\n",
       "      <th>sex</th>\n",
       "      <th>bmi</th>\n",
       "      <th>children</th>\n",
       "      <th>smoker</th>\n",
       "      <th>region</th>\n",
       "      <th>charges</th>\n",
       "    </tr>\n",
       "  </thead>\n",
       "  <tbody>\n",
       "    <tr>\n",
       "      <th>14</th>\n",
       "      <td>27</td>\n",
       "      <td>male</td>\n",
       "      <td>42.130</td>\n",
       "      <td>0</td>\n",
       "      <td>yes</td>\n",
       "      <td>southeast</td>\n",
       "      <td>39611.75770</td>\n",
       "    </tr>\n",
       "    <tr>\n",
       "      <th>19</th>\n",
       "      <td>30</td>\n",
       "      <td>male</td>\n",
       "      <td>35.300</td>\n",
       "      <td>0</td>\n",
       "      <td>yes</td>\n",
       "      <td>southwest</td>\n",
       "      <td>36837.46700</td>\n",
       "    </tr>\n",
       "    <tr>\n",
       "      <th>23</th>\n",
       "      <td>34</td>\n",
       "      <td>female</td>\n",
       "      <td>31.920</td>\n",
       "      <td>1</td>\n",
       "      <td>yes</td>\n",
       "      <td>northeast</td>\n",
       "      <td>37701.87680</td>\n",
       "    </tr>\n",
       "    <tr>\n",
       "      <th>29</th>\n",
       "      <td>31</td>\n",
       "      <td>male</td>\n",
       "      <td>36.300</td>\n",
       "      <td>2</td>\n",
       "      <td>yes</td>\n",
       "      <td>southwest</td>\n",
       "      <td>38711.00000</td>\n",
       "    </tr>\n",
       "    <tr>\n",
       "      <th>30</th>\n",
       "      <td>22</td>\n",
       "      <td>male</td>\n",
       "      <td>35.600</td>\n",
       "      <td>0</td>\n",
       "      <td>yes</td>\n",
       "      <td>southwest</td>\n",
       "      <td>35585.57600</td>\n",
       "    </tr>\n",
       "    <tr>\n",
       "      <th>...</th>\n",
       "      <td>...</td>\n",
       "      <td>...</td>\n",
       "      <td>...</td>\n",
       "      <td>...</td>\n",
       "      <td>...</td>\n",
       "      <td>...</td>\n",
       "      <td>...</td>\n",
       "    </tr>\n",
       "    <tr>\n",
       "      <th>1300</th>\n",
       "      <td>45</td>\n",
       "      <td>male</td>\n",
       "      <td>30.360</td>\n",
       "      <td>0</td>\n",
       "      <td>yes</td>\n",
       "      <td>southeast</td>\n",
       "      <td>62592.87309</td>\n",
       "    </tr>\n",
       "    <tr>\n",
       "      <th>1301</th>\n",
       "      <td>62</td>\n",
       "      <td>male</td>\n",
       "      <td>30.875</td>\n",
       "      <td>3</td>\n",
       "      <td>yes</td>\n",
       "      <td>northwest</td>\n",
       "      <td>46718.16325</td>\n",
       "    </tr>\n",
       "    <tr>\n",
       "      <th>1303</th>\n",
       "      <td>43</td>\n",
       "      <td>male</td>\n",
       "      <td>27.800</td>\n",
       "      <td>0</td>\n",
       "      <td>yes</td>\n",
       "      <td>southwest</td>\n",
       "      <td>37829.72420</td>\n",
       "    </tr>\n",
       "    <tr>\n",
       "      <th>1313</th>\n",
       "      <td>19</td>\n",
       "      <td>female</td>\n",
       "      <td>34.700</td>\n",
       "      <td>2</td>\n",
       "      <td>yes</td>\n",
       "      <td>southwest</td>\n",
       "      <td>36397.57600</td>\n",
       "    </tr>\n",
       "    <tr>\n",
       "      <th>1323</th>\n",
       "      <td>42</td>\n",
       "      <td>female</td>\n",
       "      <td>40.370</td>\n",
       "      <td>2</td>\n",
       "      <td>yes</td>\n",
       "      <td>southeast</td>\n",
       "      <td>43896.37630</td>\n",
       "    </tr>\n",
       "  </tbody>\n",
       "</table>\n",
       "<p>139 rows × 7 columns</p>\n",
       "</div>"
      ],
      "text/plain": [
       "      age     sex     bmi  children smoker     region      charges\n",
       "14     27    male  42.130         0    yes  southeast  39611.75770\n",
       "19     30    male  35.300         0    yes  southwest  36837.46700\n",
       "23     34  female  31.920         1    yes  northeast  37701.87680\n",
       "29     31    male  36.300         2    yes  southwest  38711.00000\n",
       "30     22    male  35.600         0    yes  southwest  35585.57600\n",
       "...   ...     ...     ...       ...    ...        ...          ...\n",
       "1300   45    male  30.360         0    yes  southeast  62592.87309\n",
       "1301   62    male  30.875         3    yes  northwest  46718.16325\n",
       "1303   43    male  27.800         0    yes  southwest  37829.72420\n",
       "1313   19  female  34.700         2    yes  southwest  36397.57600\n",
       "1323   42  female  40.370         2    yes  southeast  43896.37630\n",
       "\n",
       "[139 rows x 7 columns]"
      ]
     },
     "execution_count": 80,
     "metadata": {},
     "output_type": "execute_result"
    }
   ],
   "source": [
    "outliers "
   ]
  },
  {
   "cell_type": "code",
   "execution_count": 81,
   "id": "6e09ec84",
   "metadata": {},
   "outputs": [],
   "source": [
    "# Filtering out outliers\n",
    "df_clean = df[(df['charges'] >= lower_bound) & (df['charges'] <= upper_bound)]"
   ]
  },
  {
   "cell_type": "code",
   "execution_count": 82,
   "id": "eb48a116",
   "metadata": {},
   "outputs": [],
   "source": [
    "# IQR method example for detecting outliers in ' bmi'\n",
    "Q1 = df['bmi'].quantile(0.25)\n",
    "Q3 = df['bmi'].quantile(0.75)\n",
    "IQR = Q3 - Q1"
   ]
  },
  {
   "cell_type": "code",
   "execution_count": 83,
   "id": "193e689a",
   "metadata": {},
   "outputs": [
    {
     "data": {
      "text/plain": [
       "8.3975"
      ]
     },
     "execution_count": 83,
     "metadata": {},
     "output_type": "execute_result"
    }
   ],
   "source": [
    "IQR"
   ]
  },
  {
   "cell_type": "code",
   "execution_count": 84,
   "id": "3bce2aaf",
   "metadata": {},
   "outputs": [],
   "source": [
    "# Defining bounds\n",
    "lower_bound = Q1 - 1.5 * IQR\n",
    "upper_bound = Q3 + 1.5 * IQR"
   ]
  },
  {
   "cell_type": "code",
   "execution_count": 85,
   "id": "2ba64c32",
   "metadata": {},
   "outputs": [],
   "source": [
    "\n",
    "# Filtering out outliers\n",
    "df_clean = df[(df['bmi'] >= lower_bound) & (df['bmi'] <= upper_bound)]"
   ]
  },
  {
   "cell_type": "markdown",
   "id": "ae4678cd",
   "metadata": {},
   "source": [
    "# Feature Relationships & Summary Statistics"
   ]
  },
  {
   "cell_type": "code",
   "execution_count": 86,
   "id": "1f09c413",
   "metadata": {},
   "outputs": [
    {
     "data": {
      "image/png": "[encoded data removed]",
      "text/plain": [
       "<Figure size 800x600 with 2 Axes>"
      ]
     },
     "metadata": {},
     "output_type": "display_data"
    }
   ],
   "source": [
    "# Compute correlation matrix\n",
    "corr = df_clean.corr(numeric_only=True)\n",
    "\n",
    "# Plot heatmap\n",
    "plt.figure(figsize=(8, 6))\n",
    "sns.heatmap(corr, annot=True, cmap='coolwarm', fmt=\".2f\")\n",
    "plt.title(\"Correlation Matrix\")\n",
    "plt.show()"
   ]
  },
  {
   "cell_type": "markdown",
   "id": "773033e2",
   "metadata": {},
   "source": [
    "Pairwise Relationships (Visual)"
   ]
  },
  {
   "cell_type": "code",
   "execution_count": 87,
   "id": "7e0dedef",
   "metadata": {},
   "outputs": [],
   "source": [
    "#sns.pairplot(df, hue='smoker')\n",
    "#plt.show()\n"
   ]
  },
  {
   "cell_type": "code",
   "execution_count": 88,
   "id": "a2ff5a55",
   "metadata": {},
   "outputs": [],
   "source": [
    "#Exporting Cleaned Data for Power BI\n",
    "#df_clean.to_csv('cleaned_insurance_data.csv', index=False)"
   ]
  },
  {
   "cell_type": "code",
   "execution_count": 89,
   "id": "d335c091",
   "metadata": {},
   "outputs": [],
   "source": [
    "#SimpleImputer: Fills missing values with the most frequent category.\n",
    "#StandardScaler: Standardizes values (zero mean and unit variance).\n",
    "#OneHotEncoder(drop='first'): Converts categories to binary variables\n",
    "#ColumnTransformer runs the numeric pipeline on numeric_features, and the categorical pipeline on categorical_features, all at once.\n"
   ]
  },
  {
   "cell_type": "markdown",
   "id": "a30ee28a",
   "metadata": {},
   "source": [
    "## PREPROCESSING FOR MACHINE LEARNING"
   ]
  },
  {
   "cell_type": "code",
   "execution_count": 90,
   "id": "aa629a8e",
   "metadata": {},
   "outputs": [
    {
     "data": {
      "text/plain": [
       "(1338, 8)"
      ]
     },
     "execution_count": 90,
     "metadata": {},
     "output_type": "execute_result"
    }
   ],
   "source": [
    "from sklearn.preprocessing import StandardScaler, OneHotEncoder\n",
    "from sklearn.compose import ColumnTransformer\n",
    "from sklearn.pipeline import Pipeline\n",
    "from sklearn.impute import SimpleImputer\n",
    "\n",
    "# Identify features and target\n",
    "X = df.drop('charges', axis=1)\n",
    "y = df['charges']\n",
    "\n",
    "# Define column types\n",
    "numeric_features = ['age', 'bmi', 'children']\n",
    "categorical_features = ['sex', 'smoker', 'region']\n",
    "\n",
    "# Create preprocessing pipelines\n",
    "numeric_transformer = Pipeline(steps=[\n",
    "    ('imputer', SimpleImputer(strategy='mean')),\n",
    "    ('scaler', StandardScaler())\n",
    "])\n",
    "\n",
    "categorical_transformer = Pipeline(steps=[\n",
    "    ('imputer', SimpleImputer(strategy='most_frequent')),\n",
    "    ('onehot', OneHotEncoder(drop='first'))\n",
    "])\n",
    "\n",
    "# Combine transformers into a preprocessor\n",
    "preprocessor = ColumnTransformer(\n",
    "    transformers=[\n",
    "        ('num', numeric_transformer, numeric_features),\n",
    "        ('cat', categorical_transformer, categorical_features)\n",
    "    ])\n",
    "\n",
    "# Apply the transformations\n",
    "X_preprocessed = preprocessor.fit_transform(X)\n",
    "\n",
    "X_preprocessed.shape\n"
   ]
  },
  {
   "cell_type": "code",
   "execution_count": 91,
   "id": "f38c6c48",
   "metadata": {},
   "outputs": [
    {
     "name": "stdout",
     "output_type": "stream",
     "text": [
      "        age       bmi  children\n",
      "0 -1.438764 -0.453320 -0.908614\n",
      "1 -1.509965  0.509621 -0.078767\n",
      "2 -0.797954  0.383307  1.580926\n",
      "3 -0.441948 -1.305531 -0.908614\n",
      "4 -0.513149 -0.292556 -0.908614\n"
     ]
    }
   ],
   "source": [
    "# 1. Extract numeric part\n",
    "X_num = preprocessor.named_transformers_['num'].transform(X[numeric_features])\n",
    "X_num_df = pd.DataFrame(X_num, columns=numeric_features)\n",
    "print(X_num_df.head())"
   ]
  },
  {
   "cell_type": "code",
   "execution_count": 92,
   "id": "0bd281b7",
   "metadata": {},
   "outputs": [
    {
     "name": "stdout",
     "output_type": "stream",
     "text": [
      "\n",
      " One-Hot Encoded Categorical Data:\n",
      "   sex_male  smoker_yes  region_northwest  region_southeast  region_southwest\n",
      "0       0.0         1.0               0.0               0.0               1.0\n",
      "1       1.0         0.0               0.0               1.0               0.0\n",
      "2       1.0         0.0               0.0               1.0               0.0\n",
      "3       1.0         0.0               1.0               0.0               0.0\n",
      "4       1.0         0.0               1.0               0.0               0.0\n"
     ]
    }
   ],
   "source": [
    "# 2. Extract categorical part\n",
    "X_cat = preprocessor.named_transformers_['cat'].transform(X[categorical_features])\n",
    "cat_columns = preprocessor.named_transformers_['cat'].named_steps['onehot'].get_feature_names_out(categorical_features)\n",
    "X_cat_df = pd.DataFrame(X_cat.toarray(), columns=cat_columns)\n",
    "print(\"\\n One-Hot Encoded Categorical Data:\")\n",
    "print(X_cat_df.head())"
   ]
  },
  {
   "cell_type": "code",
   "execution_count": 93,
   "id": "4a87d4f4",
   "metadata": {},
   "outputs": [
    {
     "data": {
      "text/plain": [
       "((1070, 8), (1070, 4))"
      ]
     },
     "execution_count": 93,
     "metadata": {},
     "output_type": "execute_result"
    }
   ],
   "source": [
    "from sklearn.decomposition import PCA\n",
    "from sklearn.model_selection import train_test_split\n",
    "\n",
    "# Split the dataset into training and test sets (80/20 split)\n",
    "X_train, X_test, y_train, y_test = train_test_split(X_preprocessed, y, test_size=0.2, random_state=42)\n",
    "\n",
    "# Apply PCA to reduce features (let's reduce to 4 principal components)\n",
    "pca = PCA(n_components=4)\n",
    "X_train_pca = pca.fit_transform(X_train)\n",
    "X_test_pca = pca.transform(X_test)\n",
    "\n",
    "X_train.shape, X_train_pca.shape\n"
   ]
  },
  {
   "cell_type": "code",
   "execution_count": 94,
   "id": "17fc8c56",
   "metadata": {
    "scrolled": true
   },
   "outputs": [
    {
     "data": {
      "text/plain": [
       "({'Linear Regression': {'MSE': 33596915.851361476,\n",
       "   'R2 Score': 0.7835929767120722},\n",
       "  'Random Forest': {'MSE': 20866223.19798948, 'R2 Score': 0.8655948876523016},\n",
       "  'SVR': {'MSE': 166347273.71320683, 'R2 Score': -0.07148877877962834}},\n",
       " {'Linear Regression': {'MSE': 127447008.04097982,\n",
       "   'R2 Score': 0.1790785868821535},\n",
       "  'Random Forest': {'MSE': 71806278.40472098, 'R2 Score': 0.5374759090477597},\n",
       "  'SVR': {'MSE': 166554944.024712, 'R2 Score': -0.07282644066909905}})"
      ]
     },
     "execution_count": 94,
     "metadata": {},
     "output_type": "execute_result"
    }
   ],
   "source": [
    "from sklearn.linear_model import LinearRegression\n",
    "from sklearn.ensemble import RandomForestRegressor\n",
    "from sklearn.svm import SVR\n",
    "from sklearn.metrics import mean_squared_error, r2_score\n",
    "\n",
    "# Initialize models\n",
    "models = {\n",
    "    \"Linear Regression\": LinearRegression(),\n",
    "    \"Random Forest\": RandomForestRegressor(random_state=42),\n",
    "    \"SVR\": SVR()\n",
    "}\n",
    "\n",
    "# Function to train and evaluate models\n",
    "def evaluate_models(X_tr, X_te, y_tr, y_te):\n",
    "    results = {}\n",
    "    for name, model in models.items():\n",
    "        model.fit(X_tr, y_tr)\n",
    "        y_pred = model.predict(X_te)\n",
    "        mse = mean_squared_error(y_te, y_pred)\n",
    "        r2 = r2_score(y_te, y_pred)\n",
    "        results[name] = {\"MSE\": mse, \"R2 Score\": r2}\n",
    "    return results\n",
    "\n",
    "# Evaluate models on original and PCA-reduced features\n",
    "results_original = evaluate_models(X_train, X_test, y_train, y_test)\n",
    "results_pca = evaluate_models(X_train_pca, X_test_pca, y_train, y_test)\n",
    "\n",
    "results_original, results_pca\n"
   ]
  },
  {
   "cell_type": "code",
   "execution_count": 95,
   "id": "c1d3b088",
   "metadata": {},
   "outputs": [],
   "source": [
    "#y_te: True target values (from test set).\n",
    "\n",
    "#y_pred: Model's predicted values.\n",
    "\n",
    "#mean_squared_error(): Calculates how far off the predictions are on average.\n",
    "#MSE = MSE = “How wrong were you, on average?”\n",
    "\n",
    "#r2_score()How well does our model explain the data?\"\n",
    "#It tells you how much of the actual data trend your model can capture or explain.\n",
    "\n",
    "#R² = 1 → Perfect prediction\n",
    "\n",
    "#R² = 0 → No better than guessing the average\n",
    "\n",
    "#R² < 0 → Worse than guessing!\n",
    "\n"
   ]
  },
  {
   "cell_type": "code",
   "execution_count": 96,
   "id": "022931e8",
   "metadata": {
    "scrolled": true
   },
   "outputs": [
    {
     "data": {
      "image/png": "[encoded data removed]",
      "text/plain": [
       "<Figure size 1400x500 with 2 Axes>"
      ]
     },
     "metadata": {},
     "output_type": "display_data"
    }
   ],
   "source": [
    "# Re-import necessary libraries after code execution state reset\n",
    "import matplotlib.pyplot as plt\n",
    "import pandas as pd\n",
    "\n",
    "# Use your actual model results\n",
    "results_original = {\n",
    "    \"Linear Regression\": {\n",
    "        \"MSE\": 33596915.851361476,\n",
    "        \"R2 Score\": 0.7835929767120722\n",
    "    },\n",
    "    \"Random Forest\": {\n",
    "        \"MSE\": 20866223.19798948,\n",
    "        \"R2 Score\": 0.8655948876523016\n",
    "    },\n",
    "    \"SVR\": {\n",
    "        \"MSE\": 166347273.71320683,\n",
    "        \"R2 Score\": -0.07148877877962834\n",
    "    }\n",
    "}\n",
    "\n",
    "results_pca = {\n",
    "    \"Linear Regression\": {\n",
    "        \"MSE\": 127447008.04097992,\n",
    "        \"R2 Score\": 0.17907858688215272\n",
    "    },\n",
    "    \"Random Forest\": {\n",
    "        \"MSE\": 71806278.40472098,\n",
    "        \"R2 Score\": 0.5374759090477597\n",
    "    },\n",
    "    \"SVR\": {\n",
    "        \"MSE\": 166554944.024712,\n",
    "        \"R2 Score\": -0.07282644066909905\n",
    "    }\n",
    "}\n",
    "\n",
    "# Convert to DataFrame\n",
    "df_original = pd.DataFrame(results_original).T\n",
    "df_original[\"Feature Set\"] = \"Original\"\n",
    "\n",
    "df_pca = pd.DataFrame(results_pca).T\n",
    "df_pca[\"Feature Set\"] = \"PCA-Reduced\"\n",
    "\n",
    "# Combine both\n",
    "df_combined = pd.concat([df_original, df_pca])\n",
    "df_combined.reset_index(inplace=True)\n",
    "df_combined.rename(columns={'index': 'Model'}, inplace=True)\n",
    "\n",
    "# Plotting\n",
    "fig, axes = plt.subplots(1, 2, figsize=(14, 5))\n",
    "\n",
    "# MSE plot\n",
    "axes[0].bar(df_combined[df_combined[\"Feature Set\"] == \"Original\"][\"Model\"],\n",
    "            df_combined[df_combined[\"Feature Set\"] == \"Original\"][\"MSE\"],\n",
    "            width=0.4, label='Original', align='center')\n",
    "\n",
    "axes[0].bar(df_combined[df_combined[\"Feature Set\"] == \"PCA-Reduced\"][\"Model\"],\n",
    "            df_combined[df_combined[\"Feature Set\"] == \"PCA-Reduced\"][\"MSE\"],\n",
    "            width=0.4, label='PCA-Reduced', align='edge')\n",
    "\n",
    "axes[0].set_title(\"Mean Squared Error (MSE)\")\n",
    "axes[0].set_ylabel(\"MSE\")\n",
    "axes[0].tick_params(axis='x', rotation=45)\n",
    "axes[0].legend()\n",
    "\n",
    "# R² Score plot\n",
    "axes[1].bar(df_combined[df_combined[\"Feature Set\"] == \"Original\"][\"Model\"],\n",
    "            df_combined[df_combined[\"Feature Set\"] == \"Original\"][\"R2 Score\"],\n",
    "            width=0.4, label='Original', align='center')\n",
    "\n",
    "axes[1].bar(df_combined[df_combined[\"Feature Set\"] == \"PCA-Reduced\"][\"Model\"],\n",
    "            df_combined[df_combined[\"Feature Set\"] == \"PCA-Reduced\"][\"R2 Score\"],\n",
    "            width=0.4, label='PCA-Reduced', align='edge')\n",
    "\n",
    "axes[1].set_title(\"R² Score\")\n",
    "axes[1].set_ylabel(\"R² Score\")\n",
    "axes[1].tick_params(axis='x', rotation=45)\n",
    "axes[1].legend()\n",
    "\n",
    "plt.tight_layout()\n",
    "plt.show()\n"
   ]
  },
  {
   "cell_type": "markdown",
   "id": "f6c0cbbd",
   "metadata": {},
   "source": [
    "# HYPERPARAMETER TUNNING"
   ]
  },
  {
   "cell_type": "code",
   "execution_count": 97,
   "id": "34f35567",
   "metadata": {},
   "outputs": [
    {
     "data": {
      "text/plain": [
       "{'Random Forest': {'MSE': 19981337.48834599, 'R2 Score': 0.8712946811458824},\n",
       " 'SVR': {'MSE': 156276263.64264393, 'R2 Score': -0.0066186186579237916},\n",
       " 'Linear Regression': {'MSE': 33596915.85136147,\n",
       "  'R2 Score': 0.7835929767120723}}"
      ]
     },
     "execution_count": 97,
     "metadata": {},
     "output_type": "execute_result"
    }
   ],
   "source": [
    "# Now we'll prepare the data, apply preprocessing, PCA, and perform RandomizedSearchCV for hyperparameter tuning\n",
    "\n",
    "from sklearn.model_selection import train_test_split, RandomizedSearchCV\n",
    "from sklearn.pipeline import Pipeline\n",
    "from sklearn.preprocessing import StandardScaler, OneHotEncoder\n",
    "from sklearn.impute import SimpleImputer\n",
    "from sklearn.compose import ColumnTransformer\n",
    "from sklearn.decomposition import PCA\n",
    "from sklearn.ensemble import RandomForestRegressor\n",
    "from sklearn.linear_model import LinearRegression\n",
    "from sklearn.svm import SVR\n",
    "from sklearn.metrics import mean_squared_error, r2_score\n",
    "from scipy.stats import randint, uniform\n",
    "\n",
    "# Split features and target\n",
    "X = df.drop('charges', axis=1)\n",
    "y = df['charges']\n",
    "\n",
    "# Identify column types\n",
    "numeric_features = ['age', 'bmi', 'children']\n",
    "categorical_features = ['sex', 'smoker', 'region']\n",
    "\n",
    "# Define pipelines for preprocessing\n",
    "numeric_transformer = Pipeline(steps=[\n",
    "    ('imputer', SimpleImputer(strategy='mean')),\n",
    "    ('scaler', StandardScaler())\n",
    "])\n",
    "\n",
    "categorical_transformer = Pipeline(steps=[\n",
    "    ('imputer', SimpleImputer(strategy='most_frequent')),\n",
    "    ('onehot', OneHotEncoder(drop='first'))\n",
    "])\n",
    "\n",
    "# Combine numeric and categorical pipelines\n",
    "preprocessor = ColumnTransformer(transformers=[\n",
    "    ('num', numeric_transformer, numeric_features),\n",
    "    ('cat', categorical_transformer, categorical_features)\n",
    "])\n",
    "\n",
    "# Train-test split\n",
    "X_train, X_test, y_train, y_test = train_test_split(X, y, test_size=0.2, random_state=42)\n",
    "\n",
    "# Dictionary to hold tuned models\n",
    "tuned_models = {}\n",
    "\n",
    "# Define hyperparameter distributions\n",
    "param_distributions_rf = {\n",
    "    'model__n_estimators': randint(50, 200),\n",
    "    'model__max_depth': randint(3, 20),\n",
    "    'model__min_samples_split': randint(2, 10)\n",
    "}\n",
    "\n",
    "param_distributions_svr = {\n",
    "    'model__C': uniform(0.1, 10),\n",
    "    'model__epsilon': uniform(0.01, 1),\n",
    "    'model__kernel': ['linear', 'rbf']\n",
    "}\n",
    "\n",
    "# Random Forest pipeline and tuning\n",
    "pipe_rf = Pipeline(steps=[('preprocessor', preprocessor), ('model', RandomForestRegressor(random_state=42))])\n",
    "search_rf = RandomizedSearchCV(pipe_rf, param_distributions_rf, n_iter=10, scoring='r2', cv=3, random_state=42)\n",
    "search_rf.fit(X_train, y_train)\n",
    "tuned_models['Random Forest'] = search_rf.best_estimator_\n",
    "\n",
    "# SVR pipeline and tuning\n",
    "pipe_svr = Pipeline(steps=[('preprocessor', preprocessor), ('model', SVR())])\n",
    "search_svr = RandomizedSearchCV(pipe_svr, param_distributions_svr, n_iter=10, scoring='r2', cv=3, random_state=42)\n",
    "search_svr.fit(X_train, y_train)\n",
    "tuned_models['SVR'] = search_svr.best_estimator_\n",
    "\n",
    "# Linear Regression (no tuning needed)\n",
    "pipe_lr = Pipeline(steps=[('preprocessor', preprocessor), ('model', LinearRegression())])\n",
    "pipe_lr.fit(X_train, y_train)\n",
    "tuned_models['Linear Regression'] = pipe_lr\n",
    "\n",
    "# Evaluate models\n",
    "results = {}\n",
    "for name, model in tuned_models.items():\n",
    "    y_pred = model.predict(X_test)\n",
    "    mse = mean_squared_error(y_test, y_pred)\n",
    "    r2 = r2_score(y_test, y_pred)\n",
    "    results[name] = {\"MSE\": mse, \"R2 Score\": r2}\n",
    "\n",
    "    \n",
    "results\n"
   ]
  },
  {
   "cell_type": "code",
   "execution_count": 65,
   "id": "e67b06b3",
   "metadata": {
    "scrolled": true
   },
   "outputs": [
    {
     "data": {
      "text/plain": [
       "{'Random Forest': (90908584.44698967, 0.41443267475710843),\n",
       " 'SVR': (163801098.95293957, -0.0550881632267588),\n",
       " 'Linear Regression': (125282120.96430346, 0.1930232230532456)}"
      ]
     },
     "execution_count": 65,
     "metadata": {},
     "output_type": "execute_result"
    }
   ],
   "source": [
    "# Apply PCA\n",
    "pca = PCA(n_components=4)\n",
    "X_pca = pca.fit_transform(X_preprocessed)\n",
    "\n",
    "# Train-test split\n",
    "X_train_pca, X_test_pca, y_train, y_test = train_test_split(X_pca, y, test_size=0.2, random_state=42)\n",
    "\n",
    "# Define parameter grids for RandomizedSearchCV\n",
    "rf_param_dist = {\n",
    "    'n_estimators': randint(50, 200),\n",
    "    'max_depth': randint(3, 20),\n",
    "    'min_samples_split': randint(2, 10)\n",
    "}\n",
    "\n",
    "svr_param_dist = {\n",
    "    'C': uniform(0.1, 10),\n",
    "    'epsilon': uniform(0.01, 1),\n",
    "    'kernel': ['rbf', 'linear']\n",
    "}\n",
    "\n",
    "# Initialize models\n",
    "rf = RandomForestRegressor(random_state=42)\n",
    "svr = SVR()\n",
    "lr = LinearRegression()\n",
    "\n",
    "# RandomizedSearchCV for Random Forest\n",
    "rf_search = RandomizedSearchCV(rf, rf_param_dist, n_iter=20, cv=5, scoring='r2', random_state=42, n_jobs=-1)\n",
    "rf_search.fit(X_train_pca, y_train)\n",
    "\n",
    "# RandomizedSearchCV for SVR\n",
    "svr_search = RandomizedSearchCV(svr, svr_param_dist, n_iter=20, cv=5, scoring='r2', random_state=42, n_jobs=-1)\n",
    "svr_search.fit(X_train_pca, y_train)\n",
    "\n",
    "# Fit Linear Regression directly\n",
    "lr.fit(X_train_pca, y_train)\n",
    "\n",
    "# Evaluate all models\n",
    "def evaluate(model, X_te, y_te):\n",
    "    y_pred = model.predict(X_te)\n",
    "    mse = mean_squared_error(y_te, y_pred)\n",
    "    r2 = r2_score(y_te, y_pred)\n",
    "    return mse, r2\n",
    "\n",
    "results = {\n",
    "    \"Random Forest\": evaluate(rf_search.best_estimator_, X_test_pca, y_test),\n",
    "    \"SVR\": evaluate(svr_search.best_estimator_, X_test_pca, y_test),\n",
    "    \"Linear Regression\": evaluate(lr, X_test_pca, y_test)\n",
    "}\n",
    "\n",
    "#results_df = pd.DataFrame(results, index=[\"MSE\", \"R2\"]).T\n",
    "#results_df\n",
    "results"
   ]
  },
  {
   "cell_type": "code",
   "execution_count": 98,
   "id": "d89f67f9",
   "metadata": {},
   "outputs": [
    {
     "data": {
      "image/png": "[encoded data removed]",
      "text/plain": [
       "<Figure size 1400x500 with 2 Axes>"
      ]
     },
     "metadata": {},
     "output_type": "display_data"
    }
   ],
   "source": [
    "import matplotlib.pyplot as plt\n",
    "import pandas as pd\n",
    "\n",
    "# Updated model results (you provided the same values for both original and PCA — adjust if needed)\n",
    "results_original = {\n",
    "    \"Linear Regression\": {\n",
    "        \"MSE\": 33596915.85136147,\n",
    "        \"R2 Score\": 0.7835929767120723\n",
    "    },\n",
    "    \"Random Forest\": {\n",
    "        \"MSE\": 19981337.48834599,\n",
    "        \"R2 Score\": 0.8712946811458824\n",
    "    },\n",
    "    \"SVR\": {\n",
    "        \"MSE\": 156276263.64264393,\n",
    "        \"R2 Score\": -0.0066186186579237916\n",
    "    }\n",
    "}\n",
    "\n",
    "results_pca = {\n",
    "    \"Linear Regression\": {\n",
    "        \"MSE\": 33596915.85136147,\n",
    "        \"R2 Score\": 0.7835929767120723\n",
    "    },\n",
    "    \"Random Forest\": {\n",
    "        \"MSE\": 19981337.48834599,\n",
    "        \"R2 Score\": 0.8712946811458824\n",
    "    },\n",
    "    \"SVR\": {\n",
    "        \"MSE\": 156276263.64264393,\n",
    "        \"R2 Score\": -0.0066186186579237916\n",
    "    }\n",
    "}\n",
    "\n",
    "# Convert to DataFrame\n",
    "df_original = pd.DataFrame(results_original).T\n",
    "df_original[\"Feature Set\"] = \"Original\"\n",
    "\n",
    "df_pca = pd.DataFrame(results_pca).T\n",
    "df_pca[\"Feature Set\"] = \"PCA-Reduced\"\n",
    "\n",
    "# Combine both\n",
    "df_combined = pd.concat([df_original, df_pca])\n",
    "df_combined.reset_index(inplace=True)\n",
    "df_combined.rename(columns={'index': 'Model'}, inplace=True)\n",
    "\n",
    "# Plotting\n",
    "fig, axes = plt.subplots(1, 2, figsize=(14, 5))\n",
    "\n",
    "# MSE plot\n",
    "axes[0].bar(df_combined[df_combined[\"Feature Set\"] == \"Original\"][\"Model\"],\n",
    "            df_combined[df_combined[\"Feature Set\"] == \"Original\"][\"MSE\"],\n",
    "            width=0.4, label='Original', align='center')\n",
    "\n",
    "axes[0].bar(df_combined[df_combined[\"Feature Set\"] == \"PCA-Reduced\"][\"Model\"],\n",
    "            df_combined[df_combined[\"Feature Set\"] == \"PCA-Reduced\"][\"MSE\"],\n",
    "            width=0.4, label='PCA-Reduced', align='edge')\n",
    "\n",
    "axes[0].set_title(\"Mean Squared Error (MSE)\")\n",
    "axes[0].set_ylabel(\"MSE\")\n",
    "axes[0].tick_params(axis='x', rotation=45)\n",
    "axes[0].legend()\n",
    "\n",
    "# R² Score plot\n",
    "axes[1].bar(df_combined[df_combined[\"Feature Set\"] == \"Original\"][\"Model\"],\n",
    "            df_combined[df_combined[\"Feature Set\"] == \"Original\"][\"R2 Score\"],\n",
    "            width=0.4, label='Original', align='center')\n",
    "\n",
    "axes[1].bar(df_combined[df_combined[\"Feature Set\"] == \"PCA-Reduced\"][\"Model\"],\n",
    "            df_combined[df_combined[\"Feature Set\"] == \"PCA-Reduced\"][\"R2 Score\"],\n",
    "            width=0.4, label='PCA-Reduced', align='edge')\n",
    "\n",
    "axes[1].set_title(\"R² Score\")\n",
    "axes[1].set_ylabel(\"R² Score\")\n",
    "axes[1].tick_params(axis='x', rotation=45)\n",
    "axes[1].legend()\n",
    "\n",
    "plt.tight_layout()\n",
    "plt.show()\n"
   ]
  },
  {
   "cell_type": "code",
   "execution_count": 31,
   "id": "917ebe7e",
   "metadata": {},
   "outputs": [],
   "source": [
    "# Assuming model has been trained and X_test, y_test defined\n",
    "rf_model = RandomForestRegressor(random_state=42)\n",
    "rf_model.fit(X_train, y_train)\n",
    "y_pred = rf_model.predict(X_test)\n",
    "\n",
    "df_comparison = pd.DataFrame({\n",
    "    \"Actual Charges\": y_test,\n",
    "    \"Predicted Charges\": y_pred\n",
    "})\n",
    "\n",
    "df_comparison.to_csv(\"actual_vs_predicted.csv\", index=False)\n"
   ]
  },
  {
   "cell_type": "code",
   "execution_count": 42,
   "id": "2ac4989b",
   "metadata": {},
   "outputs": [],
   "source": [
    "# Train and predict with Linear Regression\n",
    "lr_model = LinearRegression()\n",
    "lr_model.fit(X_train, y_train)\n",
    "y_pred_lr = lr_model.predict(X_test)\n",
    "\n",
    "df_lr = pd.DataFrame({\n",
    "    \"Actual Charges\": y_test,\n",
    "    \"Predicted Charges (Linear Regression)\": y_pred_lr\n",
    "})\n",
    "df_lr.to_csv(\"actual_vs_predicted_lr.csv\", index=False)\n"
   ]
  },
  {
   "cell_type": "code",
   "execution_count": 43,
   "id": "15bca8a9",
   "metadata": {},
   "outputs": [],
   "source": [
    "# Train and predict with SVR\n",
    "svr_model = SVR()\n",
    "svr_model.fit(X_train, y_train)\n",
    "y_pred_svr = svr_model.predict(X_test)\n",
    "\n",
    "df_svr = pd.DataFrame({\n",
    "    \"Actual Charges\": y_test,\n",
    "    \"Predicted Charges (SVR)\": y_pred_svr\n",
    "})\n",
    "df_svr.to_csv(\"actual_vs_predicted_svr.csv\", index=False)"
   ]
  },
  {
   "cell_type": "code",
   "execution_count": null,
   "id": "a0595ba1",
   "metadata": {},
   "outputs": [],
   "source": []
  }
 ],
 "metadata": {
  "kernelspec": {
   "display_name": "Python 3 (ipykernel)",
   "language": "python",
   "name": "python3"
  },
  "language_info": {
   "codemirror_mode": {
    "name": "ipython",
    "version": 3
   },
   "file_extension": ".py",
   "mimetype": "text/x-python",
   "name": "python",
   "nbconvert_exporter": "python",
   "pygments_lexer": "ipython3",
   "version": "3.11.3"
  }
 },
 "nbformat": 4,
 "nbformat_minor": 5
}
